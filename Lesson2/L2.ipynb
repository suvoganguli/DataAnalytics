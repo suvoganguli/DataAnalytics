{
 "cells": [
  {
   "cell_type": "code",
   "execution_count": 21,
   "metadata": {},
   "outputs": [
    {
     "name": "stdout",
     "output_type": "stream",
     "text": [
      "0                  Abkhazia\n",
      "1               Afghanistan\n",
      "2     Akrotiri and Dhekelia\n",
      "3                   Albania\n",
      "4                   Algeria\n",
      "5            American Samoa\n",
      "6                   Andorra\n",
      "7                    Angola\n",
      "8                  Anguilla\n",
      "9       Antigua and Barbuda\n",
      "10                Argentina\n",
      "11                  Armenia\n",
      "12                    Aruba\n",
      "13                Australia\n",
      "14                  Austria\n",
      "15               Azerbaijan\n",
      "16                  Bahamas\n",
      "17                  Bahrain\n",
      "18               Bangladesh\n",
      "19                 Barbados\n",
      "Name: Country, dtype: object\n"
     ]
    }
   ],
   "source": [
    "import pandas as pd\n",
    "\n",
    "countries = pd.read_csv('gdp_per_capita.csv')\n",
    "\n",
    "print(countries[0:20]['Country'])\n"
   ]
  }
 ],
 "metadata": {
  "kernelspec": {
   "display_name": "Python 2",
   "language": "python",
   "name": "python2"
  },
  "language_info": {
   "codemirror_mode": {
    "name": "ipython",
    "version": 2
   },
   "file_extension": ".py",
   "mimetype": "text/x-python",
   "name": "python",
   "nbconvert_exporter": "python",
   "pygments_lexer": "ipython2",
   "version": "2.7.14"
  }
 },
 "nbformat": 4,
 "nbformat_minor": 1
}
