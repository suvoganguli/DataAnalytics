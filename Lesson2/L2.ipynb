{
 "cells": [
  {
   "cell_type": "code",
   "execution_count": 39,
   "metadata": {},
   "outputs": [
    {
     "name": "stdout",
     "output_type": "stream",
     "text": [
      "0                 Abkhazia\n",
      "1              Afghanistan\n",
      "2    Akrotiri and Dhekelia\n",
      "3                  Albania\n",
      "4                  Algeria\n",
      "5           American Samoa\n",
      "6                  Andorra\n",
      "7                   Angola\n",
      "8                 Anguilla\n",
      "9      Antigua and Barbuda\n",
      "Name: Country, dtype: object\n"
     ]
    }
   ],
   "source": [
    "import pandas as pd\n",
    "\n",
    "gdp_per_capita = pd.read_csv('gdp_per_capita.csv')\n",
    "\n",
    "n = 10\n",
    "print(gdp_per_capita[0:n]['Country'])\n"
   ]
  },
  {
   "cell_type": "code",
   "execution_count": 40,
   "metadata": {
    "scrolled": true
   },
   "outputs": [
    {
     "name": "stdout",
     "output_type": "stream",
     "text": [
      "Afghanistan     has 55.7 employment in 2007\n",
      "Albania         has 51.4 employment in 2007\n",
      "Algeria         has 50.5 employment in 2007\n",
      "Angola          has 75.7 employment in 2007\n",
      "Argentina       has 58.4 employment in 2007\n",
      "Armenia         has 40.1 employment in 2007\n",
      "Australia       has 61.5 employment in 2007\n",
      "Austria         has 57.1 employment in 2007\n",
      "Azerbaijan      has 60.9 employment in 2007\n",
      "Bahamas         has 66.6 employment in 2007\n",
      "Employment Mean = 58.6\n",
      "Employment Std  = 10.5\n",
      "Employment Min  = 32.0\n",
      "Employment Max  = 83.2\n"
     ]
    }
   ],
   "source": [
    "employment_data = pd.read_csv('employment_above_15.csv')\n",
    "\n",
    "year = '2007'\n",
    "countries = employment_data['Country']\n",
    "employment = employment_data[year]\n",
    "\n",
    "n = 10\n",
    "for k in range(n):\n",
    "    print('{:15s} has {:.1f} employment in {}'.format(countries[k],employment[k],year))\n",
    "\n",
    "print('Employment Mean = {:.1f}'.format(employment.mean()))\n",
    "print('Employment Std  = {:.1f}'.format(employment.std()))\n",
    "print('Employment Min  = {:.1f}'.format(employment.min()))\n",
    "print('Employment Max  = {:.1f}'.format(employment.max()))\n",
    "\n"
   ]
  },
  {
   "cell_type": "code",
   "execution_count": 45,
   "metadata": {},
   "outputs": [
    {
     "name": "stdout",
     "output_type": "stream",
     "text": [
      "['Burundi', 'Uganda']\n",
      "[83.199996948199995, 83.199996948199995]\n"
     ]
    }
   ],
   "source": [
    "def max_employment(countries,employment):\n",
    "    \n",
    "    max_employment = max(employment)\n",
    "    max_idx = [i for i, j in enumerate(employment) if j == max_employment]\n",
    "    \n",
    "    n = len(max_idx)\n",
    "    max_country = [0]*n\n",
    "    max_employment = [0]*n\n",
    "    \n",
    "    for k in range(n):\n",
    "        max_country[k] = countries[max_idx[k]]\n",
    "        max_employment[k] = employment[max_idx[k]]\n",
    "        \n",
    "    return max_country, max_employment\n",
    "\n",
    "max_country, max_employment = max_employment(countries,employment)\n",
    "\n",
    "print(max_country)\n",
    "print(max_employment)\n",
    "    "
   ]
  },
  {
   "cell_type": "code",
   "execution_count": 48,
   "metadata": {},
   "outputs": [
    {
     "name": "stdout",
     "output_type": "stream",
     "text": [
      "Burundi\n",
      "83.1999969482\n"
     ]
    }
   ],
   "source": [
    "def max_employment2(countries,employment):\n",
    "    i = employment.idxmax()    \n",
    "    return countries[i], employment[i]\n",
    "\n",
    "max_country, max_employment = max_employment2(countries,employment)\n",
    "\n",
    "print(max_country)\n",
    "print(max_employment)\n",
    "    "
   ]
  },
  {
   "cell_type": "code",
   "execution_count": 59,
   "metadata": {},
   "outputs": [
    {
     "name": "stdout",
     "output_type": "stream",
     "text": [
      "object\n",
      "float64\n",
      "<U4\n"
     ]
    }
   ],
   "source": [
    "print(countries.dtype)\n",
    "print(employment.dtype)\n",
    "\n",
    "my_array = np.array(['aaa','b','cccc'])\n",
    "print(my_array.dtype)          \n"
   ]
  },
  {
   "cell_type": "code",
   "execution_count": 63,
   "metadata": {},
   "outputs": [
    {
     "data": {
      "text/plain": [
       "58.63595508189776"
      ]
     },
     "execution_count": 63,
     "metadata": {},
     "output_type": "execute_result"
    }
   ],
   "source": [
    "employment.mean()"
   ]
  },
  {
   "cell_type": "code",
   "execution_count": 66,
   "metadata": {},
   "outputs": [
    {
     "name": "stdout",
     "output_type": "stream",
     "text": [
      "0     -0.279098\n",
      "1     -0.687864\n",
      "2     -0.773420\n",
      "3      1.622141\n",
      "4     -0.022430\n",
      "5     -1.762064\n",
      "6      0.272262\n",
      "7     -0.146011\n",
      "8      0.215225\n",
      "9      0.757078\n",
      "10     0.167694\n",
      "11     0.899671\n",
      "12     0.785596\n",
      "13    -0.497740\n",
      "14    -0.954038\n",
      "15    -0.174530\n",
      "16     1.232387\n",
      "17    -0.022430\n",
      "18     1.118313\n",
      "19    -1.657496\n",
      "20    -1.201199\n",
      "21     0.557448\n",
      "22     0.490904\n",
      "23    -1.077618\n",
      "24     2.154489\n",
      "25     2.335106\n",
      "26     1.926340\n",
      "27     0.044113\n",
      "28     0.462386\n",
      "29    -0.260085\n",
      "         ...   \n",
      "148   -0.336135\n",
      "149   -1.077618\n",
      "150   -1.324779\n",
      "151   -0.735395\n",
      "152    0.196212\n",
      "153    0.538436\n",
      "154   -1.315273\n",
      "155   -0.393172\n",
      "156   -0.383666\n",
      "157    1.859796\n",
      "158    1.270412\n",
      "159   -2.256386\n",
      "160    0.500411\n",
      "161    0.272262\n",
      "162   -1.619471\n",
      "163   -1.505397\n",
      "164   -0.012924\n",
      "165    2.335106\n",
      "166   -0.402678\n",
      "167    1.574610\n",
      "168    0.063125\n",
      "169    0.348311\n",
      "170   -0.107986\n",
      "171   -0.107986\n",
      "172    0.120163\n",
      "173    1.175350\n",
      "174   -2.532066\n",
      "175   -1.866632\n",
      "176    0.224731\n",
      "177    0.776090\n",
      "Name: 2007, Length: 178, dtype: float64\n"
     ]
    }
   ],
   "source": [
    "'''\n",
    "Fill in this function to return a standardized version of the given values,\n",
    "which will be in a NumPy array. Each value should be translated into the\n",
    "number of standard deviations that value is away from the mean of the data.\n",
    "(A positive number indicates a value higher than the mean, and a negative\n",
    "number indicates a value lower than the mean.)\n",
    "'''\n",
    "\n",
    "def standardize_data(values):\n",
    "    #value_mean = values.mean()\n",
    "    #value_std = values.std() \n",
    "    #n = len(values)\n",
    "    #std_values = np.zeros(n)\n",
    "    #for k in range(len(values)):\n",
    "    #    std_values[k] = (value)\n",
    "    #std_values = (values - value_mean) / value_std \n",
    "    #return std_values\n",
    "    \n",
    "    return ( (values - values.mean())/values.std() )\n",
    "\n",
    "std_employment = standardize_data(employment)\n",
    "print(std_employment)\n"
   ]
  },
  {
   "cell_type": "code",
   "execution_count": 67,
   "metadata": {},
   "outputs": [
    {
     "name": "stdout",
     "output_type": "stream",
     "text": [
      "41.0540034855\n"
     ]
    }
   ],
   "source": [
    "def mean_time_for_paid_students(time_spent, days_to_cancel):\n",
    "    '''\n",
    "    Fill in this function to calculate the mean time spent in the classroom\n",
    "    for students who stayed enrolled at least (greater than or equal to) 7 days.\n",
    "    Unlike in Lesson 1, you can assume that days_to_cancel will contain only\n",
    "    integers (there are no students who have not canceled yet).\n",
    "    \n",
    "    The arguments are NumPy arrays. time_spent contains the amount of time spent\n",
    "    in the classroom for each student, and days_to_cancel contains the number\n",
    "    of days until each student cancel. The data is given in the same order\n",
    "    in both arrays.\n",
    "    '''\n",
    "    \n",
    "    mean_time = time_spent[days_to_cancel >= 7].mean()\n",
    "    return mean_time\n",
    "\n",
    "# Time spent in the classroom in the first week for 20 students\n",
    "time_spent = np.array([\n",
    "       12.89697233,    0.        ,   64.55043217,    0.        ,\n",
    "       24.2315615 ,   39.991625  ,    0.        ,    0.        ,\n",
    "      147.20683783,    0.        ,    0.        ,    0.        ,\n",
    "       45.18261617,  157.60454283,  133.2434615 ,   52.85000767,\n",
    "        0.        ,   54.9204785 ,   26.78142417,    0.\n",
    "])\n",
    "\n",
    "# Days to cancel for 20 students\n",
    "days_to_cancel = np.array([\n",
    "      4,   5,  37,   3,  12,   4,  35,  38,   5,  37,   3,   3,  68,\n",
    "     38,  98,   2, 249,   2, 127,  35\n",
    "])\n",
    "\n",
    "mean_time = mean_time_for_paid_students(time_spent, days_to_cancel)\n",
    "print(mean_time)\n"
   ]
  }
 ],
 "metadata": {
  "kernelspec": {
   "display_name": "Python [default]",
   "language": "python",
   "name": "python3"
  },
  "language_info": {
   "codemirror_mode": {
    "name": "ipython",
    "version": 3
   },
   "file_extension": ".py",
   "mimetype": "text/x-python",
   "name": "python",
   "nbconvert_exporter": "python",
   "pygments_lexer": "ipython3",
   "version": "3.6.3"
  }
 },
 "nbformat": 4,
 "nbformat_minor": 1
}
